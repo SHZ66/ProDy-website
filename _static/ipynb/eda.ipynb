{
 "cells": [
  {
   "cell_type": "markdown",
   "metadata": {},
   "source": [
    "# Essential Dynamics Analysis"
   ]
  },
  {
   "cell_type": "markdown",
   "metadata": {},
   "source": [
    "This example shows how to perform essential dynamics analysis of molecular dynamics (MD) trajectories. A EDA instance that stores covariance matrix and principal modes that describes the essential dynamics of the system observed in the simulation will be built. EDA and principal modes (Mode) can be used as input to functions in dynamics module for further analysis.\n",
    "User needs to provide trajectory in DCD file format and PDB file of the system.\n",
    "You can download the trajectory from the following link:\n",
    "http://prody.csb.pitt.edu/tutorials/trajectory_analysis/trajectory_analysis_files.zip"
   ]
  },
  {
   "cell_type": "markdown",
   "metadata": {},
   "source": [
    "## Setting up environment"
   ]
  },
  {
   "cell_type": "code",
   "execution_count": null,
   "metadata": {
    "collapsed": true
   },
   "outputs": [],
   "source": [
    "from prody import *\n",
    "from pylab import *\n",
    "%matplotlib inline"
   ]
  },
  {
   "cell_type": "markdown",
   "metadata": {},
   "source": [
    "## Parse reference structure"
   ]
  },
  {
   "cell_type": "markdown",
   "metadata": {},
   "source": [
    "The PDB file provided with this example contains and X-ray structure which will be useful in a number of places, so let’s start with parsing this file first:"
   ]
  },
  {
   "cell_type": "code",
   "execution_count": null,
   "metadata": {
    "collapsed": false
   },
   "outputs": [],
   "source": [
    "structure = parsePDB('mdm2.pdb')"
   ]
  },
  {
   "cell_type": "code",
   "execution_count": null,
   "metadata": {
    "collapsed": false
   },
   "outputs": [],
   "source": [
    "structure"
   ]
  },
  {
   "cell_type": "markdown",
   "metadata": {},
   "source": [
    "## EDA calculations"
   ]
  },
  {
   "cell_type": "markdown",
   "metadata": {},
   "source": [
    "Depending on the size of your trajectory, you suggested to use different classes. If you are analyzing a small trajectory, you can use an Ensemble instance obtained by parsing the trajectory at once using parseDCD():"
   ]
  },
  {
   "cell_type": "code",
   "execution_count": null,
   "metadata": {
    "collapsed": false
   },
   "outputs": [],
   "source": [
    "ensemble = parseDCD('mdm2.dcd')\n",
    "\n",
    "ensemble.setCoords(structure)\n",
    "\n",
    "ensemble.setAtoms(structure.calpha)\n",
    "\n",
    "ensemble\n",
    "\n",
    "ensemble.superpose()"
   ]
  },
  {
   "cell_type": "code",
   "execution_count": null,
   "metadata": {
    "collapsed": false
   },
   "outputs": [],
   "source": [
    "eda_ensemble = EDA('MDM2 Ensemble')\n",
    "\n",
    "eda_ensemble.buildCovariance( ensemble )\n",
    "\n",
    "eda_ensemble.calcModes()\n",
    "\n",
    "eda_ensemble"
   ]
  },
  {
   "cell_type": "markdown",
   "metadata": {},
   "source": [
    "If you are analyzing a large trajectory, you can pass the trajectory instance to the PCA.buildCovariance() method as follows:"
   ]
  },
  {
   "cell_type": "code",
   "execution_count": null,
   "metadata": {
    "collapsed": false
   },
   "outputs": [],
   "source": [
    "dcd = DCDFile('mdm2.dcd')\n",
    "\n",
    "dcd.link(structure)\n",
    "\n",
    "dcd.setAtoms(structure.calpha)\n",
    "\n",
    "dcd"
   ]
  },
  {
   "cell_type": "code",
   "execution_count": null,
   "metadata": {
    "collapsed": false
   },
   "outputs": [],
   "source": [
    "eda_trajectory = EDA('MDM2 Trajectory')\n",
    "\n",
    "eda_trajectory.buildCovariance( dcd )\n",
    "\n",
    "eda_trajectory.calcModes()\n",
    "\n",
    "eda_trajectory"
   ]
  },
  {
   "cell_type": "markdown",
   "metadata": {},
   "source": [
    "## Comparison"
   ]
  },
  {
   "cell_type": "code",
   "execution_count": null,
   "metadata": {
    "collapsed": false
   },
   "outputs": [],
   "source": [
    "printOverlapTable(eda_ensemble[:3], eda_trajectory[:3])"
   ]
  },
  {
   "cell_type": "markdown",
   "metadata": {},
   "source": [
    "## Multiple files"
   ]
  },
  {
   "cell_type": "markdown",
   "metadata": {},
   "source": [
    "It is also possible to analyze multiple trajectory files without concatenating them. In this case we will use data from two independent simulations"
   ]
  },
  {
   "cell_type": "code",
   "execution_count": null,
   "metadata": {
    "collapsed": false
   },
   "outputs": [],
   "source": [
    "trajectory = Trajectory('mdm2.dcd')\n",
    "\n",
    "trajectory.addFile('mdm2sim2.dcd')\n",
    "\n",
    "trajectory"
   ]
  },
  {
   "cell_type": "code",
   "execution_count": null,
   "metadata": {
    "collapsed": false
   },
   "outputs": [],
   "source": [
    "trajectory.link(structure)\n",
    "\n",
    "trajectory.setCoords(structure)\n",
    "\n",
    "trajectory.setAtoms(structure.calpha)\n",
    "\n",
    "trajectory"
   ]
  },
  {
   "cell_type": "code",
   "execution_count": null,
   "metadata": {
    "collapsed": false
   },
   "outputs": [],
   "source": [
    "eda = EDA('mdm2')\n",
    "\n",
    "eda.buildCovariance( trajectory )\n",
    "\n",
    "eda.calcModes()\n",
    "\n",
    "eda"
   ]
  },
  {
   "cell_type": "markdown",
   "metadata": {},
   "source": [
    "## Analysis"
   ]
  },
  {
   "cell_type": "markdown",
   "metadata": {},
   "source": [
    "Let’s print fraction of variance for top ranking 4 essential modes:"
   ]
  },
  {
   "cell_type": "code",
   "execution_count": null,
   "metadata": {
    "collapsed": false
   },
   "outputs": [],
   "source": [
    "for mode in eda_trajectory[:4]:\n",
    "    print(calcFractVariance(mode).round(2))"
   ]
  },
  {
   "cell_type": "markdown",
   "metadata": {},
   "source": [
    "## Plotting"
   ]
  },
  {
   "cell_type": "markdown",
   "metadata": {},
   "source": [
    "Now, let’s project the trajectories onto top three essential modes:"
   ]
  },
  {
   "cell_type": "code",
   "execution_count": null,
   "metadata": {
    "collapsed": false
   },
   "outputs": [],
   "source": [
    "mdm2ca_sim1 = trajectory[:500]\n",
    "\n",
    "mdm2ca_sim1.superpose()\n",
    "\n",
    "mdm2ca_sim2 = trajectory[500:]\n",
    "\n",
    "mdm2ca_sim2.superpose()"
   ]
  },
  {
   "cell_type": "code",
   "execution_count": null,
   "metadata": {
    "collapsed": false,
    "scrolled": true
   },
   "outputs": [],
   "source": [
    "showProjection(mdm2ca_sim1, eda[:3], color='red', marker='.');\n",
    "showProjection(mdm2ca_sim2, eda[:3], color='blue', marker='.');\n",
    "showProjection(mdm2ca_sim1[0], eda[:3], color='red', marker='o', ms=12);\n",
    "showProjection(mdm2ca_sim2[0], eda[:3], color='blue', marker='o', ms=12);\n",
    "showProjection(mdm2ca_sim1[-1], eda[:3], color='red', marker='s', ms=12);\n",
    "showProjection(mdm2ca_sim2[-1], eda[:3], color='blue', marker='s', ms=12);"
   ]
  }
 ],
 "metadata": {
  "kernelspec": {
   "display_name": "Python 2",
   "language": "python",
   "name": "python2"
  },
  "language_info": {
   "codemirror_mode": {
    "name": "ipython",
    "version": 2
   },
   "file_extension": ".py",
   "mimetype": "text/x-python",
   "name": "python",
   "nbconvert_exporter": "python",
   "pygments_lexer": "ipython2",
   "version": "2.7.10"
  }
 },
 "nbformat": 4,
 "nbformat_minor": 0
}